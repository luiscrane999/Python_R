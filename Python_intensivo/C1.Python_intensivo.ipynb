{
 "cells": [
  {
   "cell_type": "markdown",
   "id": "e2589b5f",
   "metadata": {},
   "source": [
    "# Introducción a Python\n",
    "## Un curso de zero2hero :D\n",
    "### Vamos a comenzar!\n",
    "\n",
    "## 1. Variables"
   ]
  },
  {
   "cell_type": "code",
   "execution_count": 1,
   "id": "2af3d97c",
   "metadata": {},
   "outputs": [],
   "source": [
    "name = 'Jonatan'\n",
    "age = 24\n",
    "height = 1.79"
   ]
  },
  {
   "cell_type": "code",
   "execution_count": 2,
   "id": "a2581842",
   "metadata": {},
   "outputs": [
    {
     "data": {
      "text/plain": [
       "str"
      ]
     },
     "execution_count": 2,
     "metadata": {},
     "output_type": "execute_result"
    }
   ],
   "source": [
    "type(name)"
   ]
  },
  {
   "cell_type": "code",
   "execution_count": 3,
   "id": "a8e13a68",
   "metadata": {},
   "outputs": [
    {
     "data": {
      "text/plain": [
       "int"
      ]
     },
     "execution_count": 3,
     "metadata": {},
     "output_type": "execute_result"
    }
   ],
   "source": [
    "type(age)"
   ]
  },
  {
   "cell_type": "code",
   "execution_count": 4,
   "id": "2079f94c",
   "metadata": {},
   "outputs": [
    {
     "data": {
      "text/plain": [
       "float"
      ]
     },
     "execution_count": 4,
     "metadata": {},
     "output_type": "execute_result"
    }
   ],
   "source": [
    "type(height)\n"
   ]
  },
  {
   "cell_type": "code",
   "execution_count": 5,
   "id": "53244e03",
   "metadata": {},
   "outputs": [
    {
     "name": "stdout",
     "output_type": "stream",
     "text": [
      "Hola Jonatan de 24 años\n"
     ]
    }
   ],
   "source": [
    "print('Hola '+name+' de '+str(age)+' años')"
   ]
  },
  {
   "cell_type": "code",
   "execution_count": 6,
   "id": "7e2f92f1",
   "metadata": {},
   "outputs": [
    {
     "name": "stdout",
     "output_type": "stream",
     "text": [
      "Hola Jonatan de 24 años\n"
     ]
    }
   ],
   "source": [
    "print(f'Hola {name} de {age} años')"
   ]
  },
  {
   "cell_type": "markdown",
   "id": "7482779c",
   "metadata": {},
   "source": [
    "# 2. Operaciones Matemáticas"
   ]
  },
  {
   "cell_type": "code",
   "execution_count": 7,
   "id": "66a00edd",
   "metadata": {},
   "outputs": [],
   "source": [
    "x = 10\n",
    "y = -5\n",
    "z = .01"
   ]
  },
  {
   "cell_type": "code",
   "execution_count": 8,
   "id": "64992e26",
   "metadata": {},
   "outputs": [
    {
     "data": {
      "text/plain": [
       "5"
      ]
     },
     "execution_count": 8,
     "metadata": {},
     "output_type": "execute_result"
    }
   ],
   "source": [
    "x+y"
   ]
  },
  {
   "cell_type": "code",
   "execution_count": 9,
   "id": "607553de",
   "metadata": {},
   "outputs": [
    {
     "data": {
      "text/plain": [
       "15"
      ]
     },
     "execution_count": 9,
     "metadata": {},
     "output_type": "execute_result"
    }
   ],
   "source": [
    "x-y"
   ]
  },
  {
   "cell_type": "code",
   "execution_count": 10,
   "id": "5a63ccc3",
   "metadata": {},
   "outputs": [
    {
     "data": {
      "text/plain": [
       "0.1"
      ]
     },
     "execution_count": 10,
     "metadata": {},
     "output_type": "execute_result"
    }
   ],
   "source": [
    "x*z"
   ]
  },
  {
   "cell_type": "code",
   "execution_count": 11,
   "id": "4e963225",
   "metadata": {},
   "outputs": [
    {
     "data": {
      "text/plain": [
       "1000.0"
      ]
     },
     "execution_count": 11,
     "metadata": {},
     "output_type": "execute_result"
    }
   ],
   "source": [
    "x/z"
   ]
  },
  {
   "cell_type": "code",
   "execution_count": 12,
   "id": "dc4675ff",
   "metadata": {},
   "outputs": [
    {
     "data": {
      "text/plain": [
       "1.023292992280754"
      ]
     },
     "execution_count": 12,
     "metadata": {},
     "output_type": "execute_result"
    }
   ],
   "source": [
    "10**z"
   ]
  },
  {
   "cell_type": "code",
   "execution_count": 13,
   "id": "4f815779",
   "metadata": {},
   "outputs": [
    {
     "data": {
      "text/plain": [
       "2.0"
      ]
     },
     "execution_count": 13,
     "metadata": {},
     "output_type": "execute_result"
    }
   ],
   "source": [
    "4**(1/2)"
   ]
  },
  {
   "cell_type": "code",
   "execution_count": 14,
   "id": "9101cb11",
   "metadata": {},
   "outputs": [
    {
     "data": {
      "text/plain": [
       "1"
      ]
     },
     "execution_count": 14,
     "metadata": {},
     "output_type": "execute_result"
    }
   ],
   "source": [
    "10%3"
   ]
  },
  {
   "cell_type": "markdown",
   "id": "07b985d9",
   "metadata": {},
   "source": [
    "### Invitas a 4 amigos a tu casa. Quieren pedir pizzas. \n",
    "### Cada pizza tiene 8 rebanadas. \n",
    "### Todos quieren comer la misma cantidad de rebanadas,\n",
    "### y además NO quieren que sobre ninguna rebanada. ¿Cuántas pizzas deben pedir?"
   ]
  },
  {
   "cell_type": "code",
   "execution_count": 16,
   "id": "4e94a9b9",
   "metadata": {},
   "outputs": [
    {
     "name": "stdout",
     "output_type": "stream",
     "text": [
      "Pediste 5 pizzas, lo cual son 40 rebanadas!. Sobran 0 rebanadas\n"
     ]
    }
   ],
   "source": [
    "#INPUTS\n",
    "num_pers = 5\n",
    "num_pizza = 5\n",
    "num_reb = 8*num_pizza\n",
    "\n",
    "#ALGORITMO\n",
    "reb_sobrantes = num_reb%num_pers\n",
    "\n",
    "#OUTPUTS\n",
    "print(f'Pediste {num_pizza} pizzas, lo cual son {num_reb} rebanadas!. Sobran {reb_sobrantes} rebanadas')\n"
   ]
  },
  {
   "cell_type": "markdown",
   "id": "b4ddaa7c",
   "metadata": {},
   "source": [
    "# 3. Operaciones de Comparación"
   ]
  },
  {
   "cell_type": "code",
   "execution_count": 17,
   "id": "2c005ba3",
   "metadata": {},
   "outputs": [],
   "source": [
    "a = 7\n",
    "b = 5"
   ]
  },
  {
   "cell_type": "code",
   "execution_count": 18,
   "id": "f5951c1a",
   "metadata": {},
   "outputs": [
    {
     "data": {
      "text/plain": [
       "True"
      ]
     },
     "execution_count": 18,
     "metadata": {},
     "output_type": "execute_result"
    }
   ],
   "source": [
    "a > b"
   ]
  },
  {
   "cell_type": "code",
   "execution_count": 19,
   "id": "dc49898a",
   "metadata": {},
   "outputs": [
    {
     "data": {
      "text/plain": [
       "False"
      ]
     },
     "execution_count": 19,
     "metadata": {},
     "output_type": "execute_result"
    }
   ],
   "source": [
    "(a/2*(1.3535353)**282) < b/2"
   ]
  },
  {
   "cell_type": "code",
   "execution_count": 20,
   "id": "19046ef2",
   "metadata": {},
   "outputs": [
    {
     "data": {
      "text/plain": [
       "False"
      ]
     },
     "execution_count": 20,
     "metadata": {},
     "output_type": "execute_result"
    }
   ],
   "source": [
    "a == b"
   ]
  },
  {
   "cell_type": "markdown",
   "id": "0a0e7ce6",
   "metadata": {},
   "source": [
    "#### Eres el cadenero en un antro! Solo deja pasar a personas que ya cumplieron los 18 años"
   ]
  },
  {
   "cell_type": "code",
   "execution_count": 21,
   "id": "37ed2728",
   "metadata": {},
   "outputs": [],
   "source": [
    "edad = 17"
   ]
  },
  {
   "cell_type": "code",
   "execution_count": 22,
   "id": "38c98212",
   "metadata": {},
   "outputs": [
    {
     "data": {
      "text/plain": [
       "False"
      ]
     },
     "execution_count": 22,
     "metadata": {},
     "output_type": "execute_result"
    }
   ],
   "source": [
    "edad >= 18"
   ]
  },
  {
   "cell_type": "markdown",
   "id": "5841b9d5",
   "metadata": {},
   "source": [
    "# 4. Operaciones Lógicas"
   ]
  },
  {
   "cell_type": "code",
   "execution_count": 23,
   "id": "1fb24da8",
   "metadata": {},
   "outputs": [
    {
     "data": {
      "text/plain": [
       "True"
      ]
     },
     "execution_count": 23,
     "metadata": {},
     "output_type": "execute_result"
    }
   ],
   "source": [
    "10 > 5"
   ]
  },
  {
   "cell_type": "code",
   "execution_count": 24,
   "id": "da40cda9",
   "metadata": {},
   "outputs": [
    {
     "data": {
      "text/plain": [
       "True"
      ]
     },
     "execution_count": 24,
     "metadata": {},
     "output_type": "execute_result"
    }
   ],
   "source": [
    "10 > 3"
   ]
  },
  {
   "cell_type": "code",
   "execution_count": 25,
   "id": "2ce64e5c",
   "metadata": {},
   "outputs": [
    {
     "data": {
      "text/plain": [
       "True"
      ]
     },
     "execution_count": 25,
     "metadata": {},
     "output_type": "execute_result"
    }
   ],
   "source": [
    "10 > 5 and 10 > 3"
   ]
  },
  {
   "cell_type": "code",
   "execution_count": 26,
   "id": "9d31d4d7",
   "metadata": {},
   "outputs": [
    {
     "data": {
      "text/plain": [
       "False"
      ]
     },
     "execution_count": 26,
     "metadata": {},
     "output_type": "execute_result"
    }
   ],
   "source": [
    "10 > 5 and 10 < 3"
   ]
  },
  {
   "cell_type": "code",
   "execution_count": 27,
   "id": "f6384341",
   "metadata": {},
   "outputs": [
    {
     "data": {
      "text/plain": [
       "True"
      ]
     },
     "execution_count": 27,
     "metadata": {},
     "output_type": "execute_result"
    }
   ],
   "source": [
    "10 > 5 or 10 < 3"
   ]
  },
  {
   "cell_type": "markdown",
   "id": "a59d792b",
   "metadata": {},
   "source": [
    "#### Eres un servidor web. Tienes almacenado la contraeña y el usuario de el unico miembro de tu comunidad. Verifica si la contraseña y usuario ingresados son correctos"
   ]
  },
  {
   "cell_type": "code",
   "execution_count": 29,
   "id": "db0fbd5a",
   "metadata": {},
   "outputs": [],
   "source": [
    "#informacion original\n",
    "password = 'ilovekittens'\n",
    "username = 'jonatan1998'"
   ]
  },
  {
   "cell_type": "code",
   "execution_count": 30,
   "id": "3181b2ae",
   "metadata": {},
   "outputs": [
    {
     "name": "stdout",
     "output_type": "stream",
     "text": [
      "Escribe tu usuario: jonatan1998\n",
      "Escribe tu contraseña: ilovekittens\n"
     ]
    }
   ],
   "source": [
    "usr = input('Escribe tu usuario: ')\n",
    "pss = input('Escribe tu contraseña: ')"
   ]
  },
  {
   "cell_type": "code",
   "execution_count": 31,
   "id": "010291e7",
   "metadata": {},
   "outputs": [
    {
     "data": {
      "text/plain": [
       "True"
      ]
     },
     "execution_count": 31,
     "metadata": {},
     "output_type": "execute_result"
    }
   ],
   "source": [
    "#proceso de validación\n",
    "password == pss and username == usr"
   ]
  },
  {
   "cell_type": "markdown",
   "id": "b51293fc",
   "metadata": {},
   "source": [
    "# 5. Condicionales"
   ]
  },
  {
   "cell_type": "code",
   "execution_count": 32,
   "id": "1fbdfae1",
   "metadata": {},
   "outputs": [
    {
     "name": "stdout",
     "output_type": "stream",
     "text": [
      "Hola\n"
     ]
    }
   ],
   "source": [
    "if 10 > 5:\n",
    "    print('Hola')"
   ]
  },
  {
   "cell_type": "code",
   "execution_count": 33,
   "id": "5f6d7bd4",
   "metadata": {},
   "outputs": [
    {
     "name": "stdout",
     "output_type": "stream",
     "text": [
      "¿Cuál es tu edad?: 3\n",
      "No puedes pasar\n"
     ]
    }
   ],
   "source": [
    "age = input('¿Cuál es tu edad?: ')\n",
    "age = int(age)\n",
    "\n",
    "if age >= 18:\n",
    "    print('Puedes pasar')\n",
    "else:\n",
    "    print('No puedes pasar')"
   ]
  },
  {
   "cell_type": "markdown",
   "id": "4242df8a",
   "metadata": {},
   "source": [
    "#### Diego tiene 23 años. Diego se ha dado cuenta que la vida es cara. Diego no quiere trabajar de manera convencional, por lo tanto decide recurrrir a la única opción que le queda...."
   ]
  },
  {
   "cell_type": "markdown",
   "id": "c7d4f1c7",
   "metadata": {},
   "source": [
    "### una sugar mommy"
   ]
  },
  {
   "cell_type": "code",
   "execution_count": 34,
   "id": "a517d555",
   "metadata": {},
   "outputs": [],
   "source": [
    "edad_max = 55\n",
    "aporte_min = 15000"
   ]
  },
  {
   "cell_type": "code",
   "execution_count": 35,
   "id": "b37f2e1a",
   "metadata": {},
   "outputs": [
    {
     "name": "stdout",
     "output_type": "stream",
     "text": [
      "¿Cuál es tu edad mamasita?: 51\n",
      "¿Cuanto biyuyo estás dispuesta a pagar por mi?: 567\n"
     ]
    }
   ],
   "source": [
    "age = int(input('¿Cuál es tu edad mamasita?: '))\n",
    "money = int(input('¿Cuanto biyuyo estás dispuesta a pagar por mi?: '))\n",
    "\n",
    "if age <= edad_max and money >= aporte_min:\n",
    "    grade = 10\n",
    "elif age > edad_max and money >= aporte_min:\n",
    "    grade = 5\n",
    "elif age <= edad_max and money < aporte_min:\n",
    "    grade = 7\n",
    "else:\n",
    "    grade = 0"
   ]
  },
  {
   "cell_type": "code",
   "execution_count": 36,
   "id": "9eeec506",
   "metadata": {},
   "outputs": [
    {
     "data": {
      "text/plain": [
       "7"
      ]
     },
     "execution_count": 36,
     "metadata": {},
     "output_type": "execute_result"
    }
   ],
   "source": [
    "grade"
   ]
  },
  {
   "cell_type": "markdown",
   "id": "c87d2060",
   "metadata": {},
   "source": [
    "# 6. Listas"
   ]
  },
  {
   "cell_type": "code",
   "execution_count": 37,
   "id": "03fa5eb3",
   "metadata": {},
   "outputs": [],
   "source": [
    "amigos = ['Mike','Jp','Sebas']"
   ]
  },
  {
   "cell_type": "code",
   "execution_count": 38,
   "id": "2c06f64b",
   "metadata": {},
   "outputs": [
    {
     "data": {
      "text/plain": [
       "3"
      ]
     },
     "execution_count": 38,
     "metadata": {},
     "output_type": "execute_result"
    }
   ],
   "source": [
    "len(amigos)"
   ]
  },
  {
   "cell_type": "code",
   "execution_count": 39,
   "id": "1d339bed",
   "metadata": {},
   "outputs": [
    {
     "data": {
      "text/plain": [
       "False"
      ]
     },
     "execution_count": 39,
     "metadata": {},
     "output_type": "execute_result"
    }
   ],
   "source": [
    "'Lucas' in amigos"
   ]
  },
  {
   "cell_type": "code",
   "execution_count": 40,
   "id": "83e4811f",
   "metadata": {},
   "outputs": [],
   "source": [
    "amigos.remove('Mike')"
   ]
  },
  {
   "cell_type": "code",
   "execution_count": 41,
   "id": "f8f8a16d",
   "metadata": {},
   "outputs": [],
   "source": [
    "amigos.append('Jose')"
   ]
  },
  {
   "cell_type": "code",
   "execution_count": 42,
   "id": "e06d2b15",
   "metadata": {},
   "outputs": [
    {
     "data": {
      "text/plain": [
       "['Jp', 'Sebas', 'Jose']"
      ]
     },
     "execution_count": 42,
     "metadata": {},
     "output_type": "execute_result"
    }
   ],
   "source": [
    "amigos"
   ]
  },
  {
   "cell_type": "code",
   "execution_count": 43,
   "id": "6cc616ed",
   "metadata": {},
   "outputs": [
    {
     "ename": "ValueError",
     "evalue": "list.remove(x): x not in list",
     "output_type": "error",
     "traceback": [
      "\u001b[1;31m---------------------------------------------------------------------------\u001b[0m",
      "\u001b[1;31mValueError\u001b[0m                                Traceback (most recent call last)",
      "Cell \u001b[1;32mIn[43], line 1\u001b[0m\n\u001b[1;32m----> 1\u001b[0m \u001b[43mamigos\u001b[49m\u001b[38;5;241;43m.\u001b[39;49m\u001b[43mremove\u001b[49m\u001b[43m(\u001b[49m\u001b[38;5;124;43m'\u001b[39;49m\u001b[38;5;124;43mLucas\u001b[39;49m\u001b[38;5;124;43m'\u001b[39;49m\u001b[43m)\u001b[49m\n",
      "\u001b[1;31mValueError\u001b[0m: list.remove(x): x not in list"
     ]
    }
   ],
   "source": [
    "amigos.remove('Lucas')"
   ]
  },
  {
   "cell_type": "markdown",
   "id": "a5be9be4",
   "metadata": {},
   "source": [
    "###### Índices de la Lista"
   ]
  },
  {
   "cell_type": "code",
   "execution_count": 45,
   "id": "dea4db01",
   "metadata": {},
   "outputs": [
    {
     "data": {
      "text/plain": [
       "'Jose'"
      ]
     },
     "execution_count": 45,
     "metadata": {},
     "output_type": "execute_result"
    }
   ],
   "source": [
    "amigos[2]"
   ]
  },
  {
   "cell_type": "code",
   "execution_count": 46,
   "id": "df9dee43",
   "metadata": {},
   "outputs": [
    {
     "name": "stdout",
     "output_type": "stream",
     "text": [
      "0\n",
      "1\n",
      "2\n",
      "3\n",
      "4\n",
      "5\n",
      "6\n",
      "7\n",
      "8\n",
      "9\n"
     ]
    }
   ],
   "source": [
    "for i in range(10):\n",
    "    print(i)"
   ]
  },
  {
   "cell_type": "code",
   "execution_count": 47,
   "id": "270afea6",
   "metadata": {},
   "outputs": [
    {
     "name": "stdout",
     "output_type": "stream",
     "text": [
      "0\n",
      "1\n",
      "2\n"
     ]
    }
   ],
   "source": [
    "for i in range(len(amigos)):\n",
    "    print(i)"
   ]
  },
  {
   "cell_type": "code",
   "execution_count": 48,
   "id": "09fa13a7",
   "metadata": {},
   "outputs": [],
   "source": [
    "platillos = ['Pizza','Sushi']"
   ]
  },
  {
   "cell_type": "code",
   "execution_count": 49,
   "id": "b6532ff5",
   "metadata": {},
   "outputs": [
    {
     "name": "stdout",
     "output_type": "stream",
     "text": [
      "¿Qué te gustaria comer en la fiesta?: Pizza\n",
      "['Pizza', 'Sushi', 'Pizza']\n"
     ]
    }
   ],
   "source": [
    "order = input('¿Qué te gustaria comer en la fiesta?: ')\n",
    "platillos.append(order)\n",
    "print(platillos)"
   ]
  },
  {
   "cell_type": "markdown",
   "id": "71e6dec8",
   "metadata": {},
   "source": [
    "# 7. Ciclos"
   ]
  },
  {
   "cell_type": "markdown",
   "id": "1831db69",
   "metadata": {},
   "source": [
    "# For"
   ]
  },
  {
   "cell_type": "code",
   "execution_count": 50,
   "id": "e9f595a9",
   "metadata": {},
   "outputs": [],
   "source": [
    "gastos = [200,10,25,69,81,57]"
   ]
  },
  {
   "cell_type": "code",
   "execution_count": 51,
   "id": "8fb77662",
   "metadata": {},
   "outputs": [
    {
     "name": "stdout",
     "output_type": "stream",
     "text": [
      "442\n"
     ]
    }
   ],
   "source": [
    "total = 0\n",
    "\n",
    "for g in gastos:\n",
    "    total = total + g\n",
    "    \n",
    "print(total)"
   ]
  },
  {
   "cell_type": "markdown",
   "id": "e8913442",
   "metadata": {},
   "source": [
    "## Antro sexista: Eres el cadenero de un antro sexista. Si el hombre tiene al menos 18 años, lo dejas pasar. Si la mujer tiene al menos 16 años, la dejas pasar."
   ]
  },
  {
   "cell_type": "code",
   "execution_count": 52,
   "id": "46f54658",
   "metadata": {},
   "outputs": [],
   "source": [
    "fila = [[18,'F'],[17,'M'],[16,'F']]"
   ]
  },
  {
   "cell_type": "code",
   "execution_count": 53,
   "id": "7b1989c2",
   "metadata": {},
   "outputs": [
    {
     "name": "stdout",
     "output_type": "stream",
     "text": [
      "Puedes pasar\n",
      "A su casa a ver pokemon\n",
      "Puedes pasar\n"
     ]
    }
   ],
   "source": [
    "for persona in fila:\n",
    "    if persona[1] == 'F' and persona[0] >= 16:\n",
    "        print('Puedes pasar')\n",
    "    elif persona[1] == 'M' and persona[0] >= 18:\n",
    "        print('Pasale perro')\n",
    "    else:\n",
    "        print('A su casa a ver pokemon')"
   ]
  },
  {
   "cell_type": "markdown",
   "id": "4f43dcea",
   "metadata": {},
   "source": [
    "# While"
   ]
  },
  {
   "cell_type": "code",
   "execution_count": 54,
   "id": "ad5d993e",
   "metadata": {},
   "outputs": [
    {
     "name": "stdout",
     "output_type": "stream",
     "text": [
      "0\n",
      "1\n",
      "2\n",
      "3\n",
      "4\n",
      "5\n",
      "6\n",
      "7\n",
      "8\n",
      "9\n"
     ]
    }
   ],
   "source": [
    "contador = 0\n",
    "while contador < 10:\n",
    "    print(contador)\n",
    "    contador = contador + 1"
   ]
  },
  {
   "cell_type": "markdown",
   "id": "6fab02d6",
   "metadata": {},
   "source": [
    "# 8. Funciones"
   ]
  },
  {
   "cell_type": "code",
   "execution_count": 56,
   "id": "1933d063",
   "metadata": {},
   "outputs": [],
   "source": [
    "def saludar(amigos):\n",
    "    for a in amigos:\n",
    "        print(f'Buenos días {a}')"
   ]
  },
  {
   "cell_type": "code",
   "execution_count": 57,
   "id": "105c8441",
   "metadata": {},
   "outputs": [
    {
     "name": "stdout",
     "output_type": "stream",
     "text": [
      "Buenos días Pedro\n",
      "Buenos días Juan\n",
      "Buenos días Maria\n"
     ]
    }
   ],
   "source": [
    "amigos = ['Pedro','Juan','Maria']\n",
    "\n",
    "saludar(amigos)"
   ]
  },
  {
   "cell_type": "markdown",
   "id": "332ce43d",
   "metadata": {},
   "source": [
    "# Función Elaborada para el problema de la pizza"
   ]
  },
  {
   "cell_type": "code",
   "execution_count": 59,
   "id": "fd9dc66d",
   "metadata": {},
   "outputs": [],
   "source": [
    "def pizza(numero_personas,rebanadasxpizza):\n",
    "    num_pizzas = 1\n",
    "    rebanadas_tot = num_pizzas*rebanadasxpizza\n",
    "    sobrante = rebanadas_tot%numero_personas\n",
    "    while sobrante != 0:\n",
    "        num_pizzas = num_pizzas + 1\n",
    "        rebanadas_tot = num_pizzas*rebanadasxpizza\n",
    "        sobrante = rebanadas_tot%numero_personas\n",
    "    print(f'{numero_personas} amigos deben pedir {num_pizzas} pizzas, para que cada quien coma {int(rebanadas_tot/numero_personas)} rebanadas, y no sobre nada!')\n"
   ]
  },
  {
   "cell_type": "code",
   "execution_count": 60,
   "id": "0374c520",
   "metadata": {},
   "outputs": [
    {
     "name": "stdout",
     "output_type": "stream",
     "text": [
      "7 amigos deben pedir 7 pizzas, para que cada quien coma 5 rebanadas, y no sobre nada!\n"
     ]
    }
   ],
   "source": [
    "pizza(7,5)"
   ]
  }
 ],
 "metadata": {
  "kernelspec": {
   "display_name": "Python 3 (ipykernel)",
   "language": "python",
   "name": "python3"
  },
  "language_info": {
   "codemirror_mode": {
    "name": "ipython",
    "version": 3
   },
   "file_extension": ".py",
   "mimetype": "text/x-python",
   "name": "python",
   "nbconvert_exporter": "python",
   "pygments_lexer": "ipython3",
   "version": "3.11.1"
  }
 },
 "nbformat": 4,
 "nbformat_minor": 5
}

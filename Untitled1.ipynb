{
 "cells": [
  {
   "cell_type": "markdown",
   "id": "5830b300",
   "metadata": {},
   "source": [
    "# Construccion del API STORAGE\n",
    "## Vamos a utilizar este API para:\n",
    "### 1. Manejar inventario\n",
    "### 2.Administrar ventas\n",
    "### 3.Analisis estrategico\n"
   ]
  },
  {
   "cell_type": "code",
   "execution_count": 3,
   "id": "5c68f1be",
   "metadata": {},
   "outputs": [],
   "source": [
    "#Importar librerias:\n",
    "import pandas as pd\n",
    "import numpy as np\n",
    "import matplotlib.pyplot as plt"
   ]
  },
  {
   "cell_type": "code",
   "execution_count": null,
   "id": "4de52218",
   "metadata": {},
   "outputs": [],
   "source": [
    "#Clases\n",
    "#Clase Product\n",
    "class"
   ]
  }
 ],
 "metadata": {
  "kernelspec": {
   "display_name": "Python 3 (ipykernel)",
   "language": "python",
   "name": "python3"
  },
  "language_info": {
   "codemirror_mode": {
    "name": "ipython",
    "version": 3
   },
   "file_extension": ".py",
   "mimetype": "text/x-python",
   "name": "python",
   "nbconvert_exporter": "python",
   "pygments_lexer": "ipython3",
   "version": "3.11.1"
  }
 },
 "nbformat": 4,
 "nbformat_minor": 5
}

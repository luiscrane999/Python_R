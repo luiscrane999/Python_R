{
 "cells": [
  {
   "cell_type": "markdown",
   "id": "f2d21830",
   "metadata": {},
   "source": [
    "# Introduction Python\n",
    "### Clase 2\n",
    "\n",
    "#### 1.Variable"
   ]
  },
  {
   "cell_type": "code",
   "execution_count": 4,
   "id": "8885d3a4",
   "metadata": {},
   "outputs": [],
   "source": [
    "x=5\n",
    "y=10"
   ]
  },
  {
   "cell_type": "code",
   "execution_count": 5,
   "id": "ad46aed4",
   "metadata": {},
   "outputs": [
    {
     "data": {
      "text/plain": [
       "15"
      ]
     },
     "execution_count": 5,
     "metadata": {},
     "output_type": "execute_result"
    }
   ],
   "source": [
    "x+y"
   ]
  },
  {
   "cell_type": "code",
   "execution_count": 6,
   "id": "bd57e897",
   "metadata": {},
   "outputs": [
    {
     "data": {
      "text/plain": [
       "-5"
      ]
     },
     "execution_count": 6,
     "metadata": {},
     "output_type": "execute_result"
    }
   ],
   "source": [
    "x-y"
   ]
  },
  {
   "cell_type": "code",
   "execution_count": 7,
   "id": "ab36baf1",
   "metadata": {},
   "outputs": [
    {
     "data": {
      "text/plain": [
       "0.3125"
      ]
     },
     "execution_count": 7,
     "metadata": {},
     "output_type": "execute_result"
    }
   ],
   "source": [
    "10*(x/y)**x"
   ]
  },
  {
   "cell_type": "code",
   "execution_count": 11,
   "id": "80d2adb6",
   "metadata": {},
   "outputs": [],
   "source": [
    "a=10\n",
    "b=\"blanck\"\n",
    "c=7.5"
   ]
  },
  {
   "cell_type": "code",
   "execution_count": 14,
   "id": "c96601d2",
   "metadata": {
    "scrolled": true
   },
   "outputs": [
    {
     "data": {
      "text/plain": [
       "17.5"
      ]
     },
     "execution_count": 14,
     "metadata": {},
     "output_type": "execute_result"
    }
   ],
   "source": [
    "a+c"
   ]
  },
  {
   "cell_type": "code",
   "execution_count": 13,
   "id": "f5863a33",
   "metadata": {},
   "outputs": [
    {
     "data": {
      "text/plain": [
       "str"
      ]
     },
     "execution_count": 13,
     "metadata": {},
     "output_type": "execute_result"
    }
   ],
   "source": [
    "type(b)"
   ]
  },
  {
   "cell_type": "code",
   "execution_count": 6,
   "id": "e2bdf916",
   "metadata": {},
   "outputs": [
    {
     "name": "stdout",
     "output_type": "stream",
     "text": [
      "Nombre: Luis\n"
     ]
    }
   ],
   "source": [
    "name=input('Nombre: ')\n",
    "age=24"
   ]
  },
  {
   "cell_type": "code",
   "execution_count": 13,
   "id": "3c403f57",
   "metadata": {},
   "outputs": [
    {
     "data": {
      "text/plain": [
       "int"
      ]
     },
     "execution_count": 13,
     "metadata": {},
     "output_type": "execute_result"
    }
   ],
   "source": [
    "type(name)\n",
    "type(age)"
   ]
  },
  {
   "cell_type": "code",
   "execution_count": 15,
   "id": "d9750561",
   "metadata": {},
   "outputs": [
    {
     "data": {
      "text/plain": [
       "'Luis tiene 24 años '"
      ]
     },
     "execution_count": 15,
     "metadata": {},
     "output_type": "execute_result"
    }
   ],
   "source": [
    "name+' tiene '+str(age)+' años '"
   ]
  },
  {
   "cell_type": "markdown",
   "id": "4c742b44",
   "metadata": {},
   "source": [
    "### 2.Logica\n"
   ]
  },
  {
   "cell_type": "code",
   "execution_count": 28,
   "id": "548d85df",
   "metadata": {},
   "outputs": [
    {
     "data": {
      "text/plain": [
       "True"
      ]
     },
     "execution_count": 28,
     "metadata": {},
     "output_type": "execute_result"
    }
   ],
   "source": [
    "True"
   ]
  },
  {
   "cell_type": "code",
   "execution_count": 29,
   "id": "d08c5e66",
   "metadata": {},
   "outputs": [
    {
     "data": {
      "text/plain": [
       "True"
      ]
     },
     "execution_count": 29,
     "metadata": {},
     "output_type": "execute_result"
    }
   ],
   "source": [
    "10>3"
   ]
  },
  {
   "cell_type": "code",
   "execution_count": 48,
   "id": "2f018b48",
   "metadata": {},
   "outputs": [
    {
     "data": {
      "text/plain": [
       "False"
      ]
     },
     "execution_count": 48,
     "metadata": {},
     "output_type": "execute_result"
    }
   ],
   "source": [
    "10==10.01"
   ]
  },
  {
   "cell_type": "code",
   "execution_count": 49,
   "id": "10247ce4",
   "metadata": {},
   "outputs": [
    {
     "data": {
      "text/plain": [
       "True"
      ]
     },
     "execution_count": 49,
     "metadata": {},
     "output_type": "execute_result"
    }
   ],
   "source": [
    "10==10.0000000000000001"
   ]
  },
  {
   "cell_type": "code",
   "execution_count": 51,
   "id": "870aa0f1",
   "metadata": {},
   "outputs": [
    {
     "name": "stdout",
     "output_type": "stream",
     "text": [
      "username: blackdank\n",
      "password: 1234\n"
     ]
    },
    {
     "data": {
      "text/plain": [
       "True"
      ]
     },
     "execution_count": 51,
     "metadata": {},
     "output_type": "execute_result"
    }
   ],
   "source": [
    "username='blackdank'\n",
    "password='1234'\n",
    "\n",
    "user_username= input('username: ')\n",
    "user_password= input('password: ')\n",
    "username==user_username and password==user_password"
   ]
  },
  {
   "cell_type": "code",
   "execution_count": 53,
   "id": "30950eee",
   "metadata": {},
   "outputs": [
    {
     "name": "stdout",
     "output_type": "stream",
     "text": [
      "ages: 23\n",
      "monthly colaboration: 20000\n"
     ]
    },
    {
     "data": {
      "text/plain": [
       "True"
      ]
     },
     "execution_count": 53,
     "metadata": {},
     "output_type": "execute_result"
    }
   ],
   "source": [
    "nombre= 'christopher'\n",
    "edad=29\n",
    "\n",
    "#Criterios de seleccion\n",
    "edad_max=45\n",
    "remuneracion_min=200000\n",
    "\n",
    "#aplicacion para que momies hagan match con sugar babies\n",
    "user_ages=input('ages: ')\n",
    "user_monthly= input('monthly colaboration: ')\n",
    "\n",
    "#modelo de clasificacion\n",
    "edad_max>=int(user_ages) or int(user_monthly)>=remuneracion_min"
   ]
  },
  {
   "cell_type": "code",
   "execution_count": 17,
   "id": "f2a37c21",
   "metadata": {},
   "outputs": [
    {
     "data": {
      "text/plain": [
       "True"
      ]
     },
     "execution_count": 17,
     "metadata": {},
     "output_type": "execute_result"
    }
   ],
   "source": [
    "1!=2\n"
   ]
  },
  {
   "cell_type": "markdown",
   "id": "c8091710",
   "metadata": {},
   "source": [
    "### Ejemplo discoteca "
   ]
  },
  {
   "cell_type": "code",
   "execution_count": 1,
   "id": "ab066e46",
   "metadata": {},
   "outputs": [
    {
     "name": "stdout",
     "output_type": "stream",
     "text": [
      "edad:34\n"
     ]
    },
    {
     "data": {
      "text/plain": [
       "True"
      ]
     },
     "execution_count": 1,
     "metadata": {},
     "output_type": "execute_result"
    }
   ],
   "source": [
    "#Ejemplo Discoteca\n",
    "edad=input('edad:')\n",
    "edad=int(edad)\n",
    "\n",
    "#Criterio de desicion para perminir entrada a discoteca \n",
    "edad>=18\n"
   ]
  },
  {
   "cell_type": "markdown",
   "id": "60eb7985",
   "metadata": {},
   "source": [
    "# Condiciones"
   ]
  },
  {
   "cell_type": "code",
   "execution_count": 3,
   "id": "9309fde2",
   "metadata": {},
   "outputs": [
    {
     "name": "stdout",
     "output_type": "stream",
     "text": [
      "No puede entrar\n"
     ]
    }
   ],
   "source": [
    "edad =11\n",
    "if edad>=18:\n",
    "    print('Puede Ingresar')\n",
    "else :\n",
    "    print('No puede entrar')"
   ]
  },
  {
   "cell_type": "markdown",
   "id": "805f0d94",
   "metadata": {},
   "source": [
    "### Ejemplo Login"
   ]
  },
  {
   "cell_type": "code",
   "execution_count": 4,
   "id": "cdcc829f",
   "metadata": {},
   "outputs": [],
   "source": [
    "#Datos reales del usuario\n",
    "password='1234'\n",
    "username='blankhall'"
   ]
  },
  {
   "cell_type": "code",
   "execution_count": 8,
   "id": "c8733073",
   "metadata": {},
   "outputs": [
    {
     "name": "stdout",
     "output_type": "stream",
     "text": [
      "username: blankhall\n",
      "password: 1234\n"
     ]
    }
   ],
   "source": [
    "#Log in\n",
    "usr=input('username: ')\n",
    "pas=input('password: ')\n",
    "\n"
   ]
  },
  {
   "cell_type": "code",
   "execution_count": 9,
   "id": "7923f0b0",
   "metadata": {},
   "outputs": [
    {
     "name": "stdout",
     "output_type": "stream",
     "text": [
      "Acceso concedido\n"
     ]
    }
   ],
   "source": [
    "#validacion\n",
    "if password==pas and usr==username:\n",
    "    print('Acceso concedido')\n",
    "else: print('Usuario o contraseña incorrecta')"
   ]
  },
  {
   "cell_type": "markdown",
   "id": "dacc8002",
   "metadata": {},
   "source": [
    "## if-else"
   ]
  },
  {
   "cell_type": "code",
   "execution_count": 18,
   "id": "d7f25ec1",
   "metadata": {},
   "outputs": [
    {
     "name": "stdout",
     "output_type": "stream",
     "text": [
      "nombre del alumno: l\n",
      "calificacion del alumno7\n",
      "El alumno l tiene una calificacion de 7.0/10, lo que le otorga un estado de aprobado\n"
     ]
    }
   ],
   "source": [
    "# 1-5 reprobado\n",
    "#6 condicionado\n",
    "#7-10 aprobado\n",
    "#variables input\n",
    "nombre=input('nombre del alumno: ')\n",
    "calif= float(input('calificacion del alumno'))\n",
    "\n",
    "estado_alumno=''\n",
    "#codigo de clasificacion\n",
    "if  calif<6:\n",
    "    estado_alumno='reprobado'\n",
    "elif calif>=6 and calif<7:\n",
    "    estado_alumno='condicionado'\n",
    "else:\n",
    "    estado_alumno='aprobado'\n",
    "print(f'El alumno {nombre} tiene una calificacion de {calif}/10, lo que le otorga un estado de {estado_alumno}')"
   ]
  },
  {
   "cell_type": "code",
   "execution_count": 20,
   "id": "7ed08d26",
   "metadata": {},
   "outputs": [
    {
     "name": "stdout",
     "output_type": "stream",
     "text": [
      "nacionalidadMexicano\n",
      "Que pedo wey\n"
     ]
    }
   ],
   "source": [
    "nacionalidad= input('nacionalidad')\n",
    "\n",
    "if nacionalidad=='Americano':\n",
    "    print('Hello my friend')\n",
    "elif nacionalidad=='Mexicano':\n",
    "    print('Que pedo wey')\n",
    "elif nacionalidad=='Aleman':\n",
    "    print('Guten Tag')\n",
    "else:\n",
    "    print('Hey')"
   ]
  },
  {
   "cell_type": "markdown",
   "id": "0eb24d6a",
   "metadata": {},
   "source": [
    "## 4. Listas"
   ]
  },
  {
   "cell_type": "code",
   "execution_count": 31,
   "id": "3cacd187",
   "metadata": {},
   "outputs": [
    {
     "data": {
      "text/plain": [
       "3"
      ]
     },
     "execution_count": 31,
     "metadata": {},
     "output_type": "execute_result"
    }
   ],
   "source": [
    "amigos=['Joshua','Benito','Angel']\n",
    "#longitud de la lista\n",
    "len(amigos)\n"
   ]
  },
  {
   "cell_type": "code",
   "execution_count": 32,
   "id": "25ccea44",
   "metadata": {},
   "outputs": [],
   "source": [
    "#agregar elementos a una lista\n",
    "amigos.append('Paola')"
   ]
  },
  {
   "cell_type": "code",
   "execution_count": 33,
   "id": "e05e64df",
   "metadata": {},
   "outputs": [
    {
     "data": {
      "text/plain": [
       "4"
      ]
     },
     "execution_count": 33,
     "metadata": {},
     "output_type": "execute_result"
    }
   ],
   "source": [
    "len(amigos)"
   ]
  },
  {
   "cell_type": "code",
   "execution_count": 34,
   "id": "1b2ce592",
   "metadata": {},
   "outputs": [
    {
     "data": {
      "text/plain": [
       "['Joshua', 'Benito', 'Angel', 'Paola']"
      ]
     },
     "execution_count": 34,
     "metadata": {},
     "output_type": "execute_result"
    }
   ],
   "source": [
    "amigos"
   ]
  },
  {
   "cell_type": "code",
   "execution_count": 29,
   "id": "9a498ddd",
   "metadata": {},
   "outputs": [],
   "source": [
    "amigos.remove('Angel')"
   ]
  },
  {
   "cell_type": "markdown",
   "id": "8d6bd004",
   "metadata": {},
   "source": [
    "### 5.Ciclos"
   ]
  },
  {
   "cell_type": "code",
   "execution_count": 35,
   "id": "9e6cc607",
   "metadata": {},
   "outputs": [
    {
     "name": "stdout",
     "output_type": "stream",
     "text": [
      "Te quiero mucho novia1, eres unica para mi\n",
      "Te quiero mucho novia2, eres unica para mi\n",
      "Te quiero mucho novia3, eres unica para mi\n"
     ]
    }
   ],
   "source": [
    "novias=['novia1','novia2','novia3']\n",
    "for n in novias:\n",
    "    print(f'Te quiero mucho {n}, eres unica para mi')"
   ]
  },
  {
   "cell_type": "code",
   "execution_count": 40,
   "id": "a3943abe",
   "metadata": {},
   "outputs": [
    {
     "name": "stdout",
     "output_type": "stream",
     "text": [
      "Ayer soñe contigo novia1,mañana te veo para Jugar Boliche\n",
      "Ayer soñe contigo novia2,mañana te veo para Ir al Cine\n",
      "Ayer soñe contigo novia3,mañana te veo para Ver Netflix\n"
     ]
    }
   ],
   "source": [
    "novias=[\n",
    "    ['novia1',22,'Jugar Boliche'],\n",
    "    ['novia2',21,'Ir al Cine'],\n",
    "    ['novia3',35,'Ver Netflix']\n",
    "]\n",
    "for n in novias:\n",
    "    print(f'Ayer soñe contigo {n[0]},mañana te veo para {n[2]}')"
   ]
  },
  {
   "cell_type": "markdown",
   "id": "b7ac5478",
   "metadata": {},
   "source": [
    "### 6.Funciones"
   ]
  },
  {
   "cell_type": "code",
   "execution_count": 2,
   "id": "f53c364b",
   "metadata": {},
   "outputs": [],
   "source": [
    "#Construir la funcion \n",
    "def superavit(ingreso,egreso):\n",
    "    s=ingreso-egreso\n",
    "    print(f'Superavit ${s}')"
   ]
  },
  {
   "cell_type": "code",
   "execution_count": 4,
   "id": "5427ec82",
   "metadata": {},
   "outputs": [
    {
     "name": "stdout",
     "output_type": "stream",
     "text": [
      "Superavit $-44\n"
     ]
    }
   ],
   "source": [
    "#Usar la funcion\n",
    "superavit(12,56)"
   ]
  },
  {
   "cell_type": "markdown",
   "id": "bd2197a6",
   "metadata": {},
   "source": [
    "### Interes Compuesto"
   ]
  },
  {
   "cell_type": "code",
   "execution_count": 6,
   "id": "d529e8dd",
   "metadata": {},
   "outputs": [],
   "source": [
    "def IC(monto,periodo,tasa):\n",
    "    ic=monto*(1+tasa)**periodo\n",
    "    return ic"
   ]
  },
  {
   "cell_type": "code",
   "execution_count": 15,
   "id": "0512a244",
   "metadata": {},
   "outputs": [
    {
     "name": "stdout",
     "output_type": "stream",
     "text": [
      "saldo final de deuda: $3830.777113560206\n"
     ]
    }
   ],
   "source": [
    "tele=20000\n",
    "periodo=24\n",
    "cat=45/100\n",
    "\n",
    "ic=IC((20000*(1+2*.45))/24,24,.45/12)\n",
    "print(f'saldo final de deuda: ${ic}')"
   ]
  },
  {
   "cell_type": "code",
   "execution_count": 16,
   "id": "b0103ea1",
   "metadata": {},
   "outputs": [],
   "source": [
    "tiempo=[0,1,2,3,4,5,6,7,8,9]"
   ]
  },
  {
   "cell_type": "code",
   "execution_count": 19,
   "id": "558cfb29",
   "metadata": {},
   "outputs": [
    {
     "name": "stdout",
     "output_type": "stream",
     "text": [
      "1583.3333333333333\n",
      "1642.7083333333335\n",
      "1704.3098958333337\n",
      "1768.2215169270837\n",
      "1834.5298238118494\n",
      "1903.324692204794\n",
      "1974.6993681624738\n",
      "2048.750594468567\n",
      "2125.578741761138\n",
      "2205.2879445771814\n"
     ]
    }
   ],
   "source": [
    "for t in tiempo:\n",
    "    ic=IC((20000*(1+2*.45))/24,t,.45/12)\n",
    "    print(ic)"
   ]
  },
  {
   "cell_type": "code",
   "execution_count": 23,
   "id": "429a76bd",
   "metadata": {},
   "outputs": [
    {
     "name": "stdout",
     "output_type": "stream",
     "text": [
      "Collecting matplotlib\n",
      "  Downloading matplotlib-3.6.3-cp311-cp311-win_amd64.whl (7.2 MB)\n",
      "     ---------------------------------------- 7.2/7.2 MB 379.4 kB/s eta 0:00:00\n",
      "Collecting contourpy>=1.0.1\n",
      "  Downloading contourpy-1.0.7-cp311-cp311-win_amd64.whl (162 kB)\n",
      "     ------------------------------------ 163.0/163.0 kB 188.1 kB/s eta 0:00:00\n",
      "Collecting cycler>=0.10\n",
      "  Downloading cycler-0.11.0-py3-none-any.whl (6.4 kB)\n",
      "Collecting fonttools>=4.22.0\n",
      "  Downloading fonttools-4.38.0-py3-none-any.whl (965 kB)\n",
      "     ------------------------------------ 965.4/965.4 kB 531.5 kB/s eta 0:00:00\n",
      "Collecting kiwisolver>=1.0.1\n",
      "  Downloading kiwisolver-1.4.4-cp311-cp311-win_amd64.whl (55 kB)\n",
      "     -------------------------------------- 55.4/55.4 kB 241.5 kB/s eta 0:00:00\n",
      "Collecting numpy>=1.19\n",
      "  Downloading numpy-1.24.1-cp311-cp311-win_amd64.whl (14.8 MB)\n",
      "     -------------------------------------- 14.8/14.8 MB 553.9 kB/s eta 0:00:00\n",
      "Requirement already satisfied: packaging>=20.0 in c:\\users\\luisc\\appdata\\local\\programs\\python\\python311\\lib\\site-packages (from matplotlib) (23.0)\n",
      "Collecting pillow>=6.2.0\n",
      "  Downloading Pillow-9.4.0-cp311-cp311-win_amd64.whl (2.5 MB)\n",
      "     ---------------------------------------- 2.5/2.5 MB 769.6 kB/s eta 0:00:00\n",
      "Collecting pyparsing>=2.2.1\n",
      "  Downloading pyparsing-3.0.9-py3-none-any.whl (98 kB)\n",
      "     -------------------------------------- 98.3/98.3 kB 808.2 kB/s eta 0:00:00\n",
      "Requirement already satisfied: python-dateutil>=2.7 in c:\\users\\luisc\\appdata\\local\\programs\\python\\python311\\lib\\site-packages (from matplotlib) (2.8.2)\n",
      "Requirement already satisfied: six>=1.5 in c:\\users\\luisc\\appdata\\local\\programs\\python\\python311\\lib\\site-packages (from python-dateutil>=2.7->matplotlib) (1.16.0)\n",
      "Installing collected packages: pyparsing, pillow, numpy, kiwisolver, fonttools, cycler, contourpy, matplotlib\n",
      "Successfully installed contourpy-1.0.7 cycler-0.11.0 fonttools-4.38.0 kiwisolver-1.4.4 matplotlib-3.6.3 numpy-1.24.1 pillow-9.4.0 pyparsing-3.0.9\n"
     ]
    }
   ],
   "source": [
    "#Grafica\n",
    "##Pasos para hacer una grafica\n",
    "####PAso 0: intalar paqueteria matplotlib solo una vez\n",
    "!pip install matplotlib\n",
    "\n",
    "\n"
   ]
  },
  {
   "cell_type": "code",
   "execution_count": null,
   "id": "94f3aa1a",
   "metadata": {},
   "outputs": [],
   "source": [
    "###Paso 1: importar paqueteria matplotlib\n",
    "import matplotlib.pyplot as plt"
   ]
  },
  {
   "cell_type": "code",
   "execution_count": 24,
   "id": "89b8a984",
   "metadata": {},
   "outputs": [],
   "source": [
    "#paso 2: tener las variables dependientes e independientes listas (relacion == mismo tamano)\n",
    "tiempo = range(25)\n",
    "\n",
    "valores = []\n",
    "for t in tiempo:\n",
    "    ic = IC((20000*(1+2*.45))/24,t,.45/12)\n",
    "    valores.append(ic)"
   ]
  },
  {
   "cell_type": "code",
   "execution_count": 25,
   "id": "868bb559",
   "metadata": {},
   "outputs": [
    {
     "data": {
      "text/plain": [
       "[<matplotlib.lines.Line2D at 0x186f8fb5dd0>]"
      ]
     },
     "execution_count": 25,
     "metadata": {},
     "output_type": "execute_result"
    },
    {
     "data": {
      "image/png": "[encoded data removed]",
      "text/plain": [
       "<Figure size 640x480 with 1 Axes>"
      ]
     },
     "metadata": {},
     "output_type": "display_data"
    }
   ],
   "source": [
    "#paso 3: crear figura\n",
    "plt.plot(tiempo,valores)"
   ]
  },
  {
   "cell_type": "code",
   "execution_count": null,
   "id": "29f1ecff",
   "metadata": {},
   "outputs": [],
   "source": []
  }
 ],
 "metadata": {
  "kernelspec": {
   "display_name": "Python 3 (ipykernel)",
   "language": "python",
   "name": "python3"
  },
  "language_info": {
   "codemirror_mode": {
    "name": "ipython",
    "version": 3
   },
   "file_extension": ".py",
   "mimetype": "text/x-python",
   "name": "python",
   "nbconvert_exporter": "python",
   "pygments_lexer": "ipython3",
   "version": "3.11.1"
  }
 },
 "nbformat": 4,
 "nbformat_minor": 5
}

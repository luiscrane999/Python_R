{
 "cells": [
  {
   "cell_type": "code",
   "execution_count": 2,
   "id": "1afd4240",
   "metadata": {},
   "outputs": [
    {
     "ename": "ModuleNotFoundError",
     "evalue": "No module named 'pandas'",
     "output_type": "error",
     "traceback": [
      "\u001b[1;31m---------------------------------------------------------------------------\u001b[0m",
      "\u001b[1;31mModuleNotFoundError\u001b[0m                       Traceback (most recent call last)",
      "Cell \u001b[1;32mIn[2], line 2\u001b[0m\n\u001b[0;32m      1\u001b[0m \u001b[38;5;66;03m#importar las bibliotecas que utilizaremos\u001b[39;00m\n\u001b[1;32m----> 2\u001b[0m \u001b[38;5;28;01mimport\u001b[39;00m \u001b[38;5;21;01mpandas\u001b[39;00m \u001b[38;5;28;01mas\u001b[39;00m \u001b[38;5;21;01mpd\u001b[39;00m\n\u001b[0;32m      3\u001b[0m \u001b[38;5;28;01mimport\u001b[39;00m \u001b[38;5;21;01mnumpy\u001b[39;00m \u001b[38;5;28;01mas\u001b[39;00m \u001b[38;5;21;01mnp\u001b[39;00m\n\u001b[0;32m      4\u001b[0m \u001b[38;5;28;01mimport\u001b[39;00m \u001b[38;5;21;01mmatplotlib\u001b[39;00m\u001b[38;5;21;01m.\u001b[39;00m\u001b[38;5;21;01mpyplot\u001b[39;00m \u001b[38;5;28;01mas\u001b[39;00m \u001b[38;5;21;01mplt\u001b[39;00m\n",
      "\u001b[1;31mModuleNotFoundError\u001b[0m: No module named 'pandas'"
     ]
    }
   ],
   "source": [
    "#importar las bibliotecas que utilizaremos\n",
    "import pandas as pd\n",
    "import numpy as np\n",
    "import matplotlib.pyplot as plt\n",
    "import seaborn as sns"
   ]
  },
  {
   "cell_type": "code",
   "execution_count": null,
   "id": "1e151ce1",
   "metadata": {},
   "outputs": [],
   "source": [
    "#inputs de clase gato\n",
    "mi_gato = {\n",
    "    'name': 'Aslan',\n",
    "    'color': 'Blanco',\n",
    "    'age': 7\n",
    "}"
   ]
  },
  {
   "cell_type": "code",
   "execution_count": null,
   "id": "c038f2da",
   "metadata": {},
   "outputs": [],
   "source": [
    "#repaso de clases\n",
    "class CAT:\n",
    "    \n",
    "    def __init__(self,inputs):\n",
    "        self.name = inputs['name']\n",
    "        self.color = inputs['color']\n",
    "        self.age = inputs['age']\n",
    "        \n",
    "    def describe(self):\n",
    "        print(f'Mi nombre es {self.name}, tengo {self.age} años y soy de color {self.color}')\n"
   ]
  },
  {
   "cell_type": "code",
   "execution_count": null,
   "id": "4766206c",
   "metadata": {},
   "outputs": [],
   "source": [
    "gato = CAT(mi_gato)"
   ]
  },
  {
   "cell_type": "code",
   "execution_count": null,
   "id": "97c4659e",
   "metadata": {},
   "outputs": [],
   "source": [
    "gato.describe()"
   ]
  },
  {
   "cell_type": "markdown",
   "id": "260e12f4",
   "metadata": {},
   "source": [
    "Proyecto"
   ]
  },
  {
   "cell_type": "code",
   "execution_count": null,
   "id": "d510b35f",
   "metadata": {},
   "outputs": [],
   "source": [
    "cartera = {\n",
    "    'owner': 'Jonatan Blank',\n",
    "    'balance': 10000,\n",
    "    'expenses': [],\n",
    "    'incomes': []\n",
    "}"
   ]
  },
  {
   "cell_type": "code",
   "execution_count": null,
   "id": "96b507cc",
   "metadata": {},
   "outputs": [],
   "source": [
    "class Wallet:\n",
    "    \n",
    "    def __init__(self,inputs):\n",
    "        self.inputs = inputs\n",
    "        active = True\n",
    "        while active:\n",
    "            self.menu()\n",
    "            keep_using = input('Do you want to perform another action (yes/no): ')\n",
    "            if keep_using == 'yes':\n",
    "                active = True\n",
    "            else:\n",
    "                active = False\n",
    "    \n",
    "    def menu(self):\n",
    "        print('-----MENU FINANCIAL WALLET-----')\n",
    "        print('Select an option:')\n",
    "        print('1- Add new expense')\n",
    "        print('2- Add new income')\n",
    "        print('3- See expenses')\n",
    "        print('4- See incomes')\n",
    "        print('----------')\n",
    "        action = input('Action to perform: ')\n",
    "        self.select_action(action)\n",
    "        \n",
    "    def select_action(self,action):\n",
    "        if action == '1':\n",
    "            self.add_expense()\n",
    "        elif action == '2':\n",
    "            self.add_income()\n",
    "        elif action == '3':\n",
    "            self.see_expenses()\n",
    "        elif action == '4':\n",
    "            self.see_incomes()\n",
    "        else:\n",
    "            print('Invalid Action Input. Try Again')\n",
    "    \n",
    "    def add_expense(self):\n",
    "        expense_name = input('Expense name: ')\n",
    "        expense_description = input('Expense description: ')\n",
    "        expense_amount = float(input('Expense amount: '))\n",
    "        self.inputs['expenses'].append(self.create_new(expense_name,expense_description,expense_amount))\n",
    "        \n",
    "    def add_income(self):\n",
    "        income_name = input('Income name: ')\n",
    "        income_description = input('Income description: ')\n",
    "        income_amount = float(input('Income amount: '))\n",
    "        self.inputs['incomes'].append(self.create_new(income_name,income_description,income_amount))\n",
    "    \n",
    "    def create_new(self,name,description,amount):\n",
    "        new = {\n",
    "            'name': name,\n",
    "            'description': description,\n",
    "            'amount': amount\n",
    "        }\n",
    "        return new\n",
    "    \n",
    "    def see_expenses(self):\n",
    "        for expense in self.inputs['expenses']:\n",
    "            print(expense)\n",
    "            \n",
    "    def see_incomes(self):\n",
    "        for income in self.inputs['incomes']:\n",
    "            print(income)"
   ]
  },
  {
   "cell_type": "code",
   "execution_count": null,
   "id": "50404b15",
   "metadata": {},
   "outputs": [],
   "source": [
    "w = Wallet(cartera)"
   ]
  }
 ],
 "metadata": {
  "kernelspec": {
   "display_name": "Python 3 (ipykernel)",
   "language": "python",
   "name": "python3"
  },
  "language_info": {
   "codemirror_mode": {
    "name": "ipython",
    "version": 3
   },
   "file_extension": ".py",
   "mimetype": "text/x-python",
   "name": "python",
   "nbconvert_exporter": "python",
   "pygments_lexer": "ipython3",
   "version": "3.11.1"
  }
 },
 "nbformat": 4,
 "nbformat_minor": 5
}

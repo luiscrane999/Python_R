{
 "cells": [
  {
   "cell_type": "markdown",
   "id": "ad9c0bc7",
   "metadata": {},
   "source": [
    "# Librerias"
   ]
  },
  {
   "cell_type": "code",
   "execution_count": 4,
   "id": "fcfc4727",
   "metadata": {},
   "outputs": [],
   "source": [
    "import numpy"
   ]
  },
  {
   "cell_type": "code",
   "execution_count": 5,
   "id": "cb85e8e0",
   "metadata": {},
   "outputs": [],
   "source": [
    "salarios=[8000,7000,14000,19000,17000,6000,5600]"
   ]
  },
  {
   "cell_type": "code",
   "execution_count": 6,
   "id": "fe8a4c5f",
   "metadata": {},
   "outputs": [],
   "source": [
    "def salario_anual(salario_mensual):\n",
    "    return salario_mensual*12"
   ]
  },
  {
   "cell_type": "code",
   "execution_count": 7,
   "id": "b0db8fd5",
   "metadata": {},
   "outputs": [
    {
     "data": {
      "text/plain": [
       "204000"
      ]
     },
     "execution_count": 7,
     "metadata": {},
     "output_type": "execute_result"
    }
   ],
   "source": [
    "salario_anual(17000)"
   ]
  },
  {
   "cell_type": "code",
   "execution_count": 8,
   "id": "6e227e32",
   "metadata": {},
   "outputs": [],
   "source": [
    "salarios_anuales=[]\n",
    "for s in salarios:\n",
    "    salarios_anuales.append(salario_anual(s))"
   ]
  },
  {
   "cell_type": "code",
   "execution_count": 9,
   "id": "af116aeb",
   "metadata": {},
   "outputs": [
    {
     "data": {
      "text/plain": [
       "[96000, 84000, 168000, 228000, 204000, 72000, 67200]"
      ]
     },
     "execution_count": 9,
     "metadata": {},
     "output_type": "execute_result"
    }
   ],
   "source": [
    "salarios_anuales\n"
   ]
  },
  {
   "cell_type": "code",
   "execution_count": 10,
   "id": "f57c8afe",
   "metadata": {},
   "outputs": [],
   "source": [
    "salarios=numpy.array(salarios)"
   ]
  },
  {
   "cell_type": "code",
   "execution_count": 11,
   "id": "fbe57dbe",
   "metadata": {},
   "outputs": [
    {
     "data": {
      "text/plain": [
       "array([ 8000,  7000, 14000, 19000, 17000,  6000,  5600])"
      ]
     },
     "execution_count": 11,
     "metadata": {},
     "output_type": "execute_result"
    }
   ],
   "source": [
    "salarios"
   ]
  },
  {
   "cell_type": "code",
   "execution_count": 12,
   "id": "bbe8f03d",
   "metadata": {},
   "outputs": [
    {
     "data": {
      "text/plain": [
       "array([ 96000,  84000, 168000, 228000, 204000,  72000,  67200])"
      ]
     },
     "execution_count": 12,
     "metadata": {},
     "output_type": "execute_result"
    }
   ],
   "source": [
    "salario_anual(salarios)"
   ]
  },
  {
   "cell_type": "code",
   "execution_count": 13,
   "id": "f75a260c",
   "metadata": {},
   "outputs": [
    {
     "data": {
      "text/plain": [
       "10942.857142857143"
      ]
     },
     "execution_count": 13,
     "metadata": {},
     "output_type": "execute_result"
    }
   ],
   "source": [
    "salarios.mean()"
   ]
  },
  {
   "cell_type": "code",
   "execution_count": 14,
   "id": "32859fa3",
   "metadata": {},
   "outputs": [
    {
     "data": {
      "text/plain": [
       "5184.277644366431"
      ]
     },
     "execution_count": 14,
     "metadata": {},
     "output_type": "execute_result"
    }
   ],
   "source": [
    "salarios.std()"
   ]
  },
  {
   "cell_type": "code",
   "execution_count": 15,
   "id": "0e9e6a9f",
   "metadata": {},
   "outputs": [
    {
     "data": {
      "text/plain": [
       "76600"
      ]
     },
     "execution_count": 15,
     "metadata": {},
     "output_type": "execute_result"
    }
   ],
   "source": [
    "salarios.sum()"
   ]
  },
  {
   "cell_type": "code",
   "execution_count": 16,
   "id": "8343ee82",
   "metadata": {},
   "outputs": [],
   "source": [
    "#Graficas \n",
    "import matplotlib.pyplot as plt\n",
    "#plt= matplotlib.pyplot"
   ]
  },
  {
   "cell_type": "code",
   "execution_count": 17,
   "id": "b3101e4a",
   "metadata": {},
   "outputs": [
    {
     "data": {
      "text/plain": [
       "array([ 10,  20,  30,  40,  50,  60,  70,  80,  90, 100, 110, 120, 130,\n",
       "       140, 150, 160, 170, 180, 190, 200, 210, 220, 230, 240, 250, 260,\n",
       "       270, 280, 290, 300, 310, 320, 330, 340, 350, 360, 370, 380, 390,\n",
       "       400, 410, 420, 430, 440, 450, 460, 470, 480, 490, 500, 510, 520,\n",
       "       530, 540, 550, 560, 570, 580, 590, 600, 610, 620, 630, 640, 650,\n",
       "       660, 670, 680, 690, 700, 710, 720, 730, 740, 750, 760, 770, 780,\n",
       "       790, 800, 810, 820, 830, 840, 850, 860, 870, 880, 890, 900, 910,\n",
       "       920, 930, 940, 950, 960, 970, 980, 990])"
      ]
     },
     "execution_count": 17,
     "metadata": {},
     "output_type": "execute_result"
    }
   ],
   "source": [
    "inversiones=numpy.arange(10,1000,10)\n",
    "inversiones"
   ]
  },
  {
   "cell_type": "code",
   "execution_count": 18,
   "id": "e6bec398",
   "metadata": {},
   "outputs": [
    {
     "data": {
      "text/plain": [
       "array([  0,   3,   6,   9,  12,  15,  18,  21,  24,  27,  30,  33,  36,\n",
       "        39,  42,  45,  48,  51,  54,  57,  60,  63,  66,  69,  72,  75,\n",
       "        78,  81,  84,  87,  90,  93,  96,  99, 102, 105, 108, 111, 114,\n",
       "       117, 120, 123, 126, 129, 132, 135, 138, 141, 144, 147, 150, 153,\n",
       "       156, 159, 162, 165, 168, 171, 174, 177, 180, 183, 186, 189, 192,\n",
       "       195, 198, 201, 204, 207, 210, 213, 216, 219, 222, 225, 228, 231,\n",
       "       234, 237])"
      ]
     },
     "execution_count": 18,
     "metadata": {},
     "output_type": "execute_result"
    }
   ],
   "source": []
  },
  {
   "cell_type": "code",
   "execution_count": 19,
   "id": "d78ff3e7",
   "metadata": {},
   "outputs": [],
   "source": [
    "def estrategia(inversion_inicial,tasa,tiempo):\n",
    "    return inversion_inicial*(1+tasa)**tiempo"
   ]
  },
  {
   "cell_type": "code",
   "execution_count": 20,
   "id": "c0825960",
   "metadata": {},
   "outputs": [
    {
     "data": {
      "text/plain": [
       "array([1.00000000e+02, 1.29502900e+02, 1.67710011e+02, 2.17189328e+02,\n",
       "       2.81266478e+02, 3.64248246e+02, 4.71712042e+02, 6.10880774e+02,\n",
       "       7.91108317e+02, 1.02450821e+03, 1.32676785e+03, 1.71820284e+03,\n",
       "       2.22512250e+03, 2.88159817e+03, 3.73175320e+03, 4.83272861e+03,\n",
       "       6.25852370e+03, 8.10496969e+03, 1.04961708e+04, 1.35928456e+04,\n",
       "       1.76031292e+04, 2.27965628e+04, 2.95222099e+04, 3.82321180e+04,\n",
       "       4.95117015e+04, 6.41190893e+04, 8.30360801e+04, 1.07534132e+05,\n",
       "       1.39259819e+05, 1.80345504e+05, 2.33552658e+05, 3.02457465e+05,\n",
       "       3.91691189e+05, 5.07251449e+05, 6.56905336e+05, 8.50711461e+05,\n",
       "       1.10169601e+06, 1.42672829e+06, 1.84765450e+06, 2.39276617e+06,\n",
       "       3.09870157e+06, 4.01290840e+06, 5.19683275e+06, 6.73004913e+06,\n",
       "       8.71560879e+06, 1.12869661e+07, 1.46169485e+07, 1.89293722e+07,\n",
       "       2.45140859e+07, 3.17464521e+07, 4.11125762e+07, 5.32419784e+07,\n",
       "       6.89499060e+07, 8.92921279e+07, 1.15635895e+08, 1.49751838e+08,\n",
       "       1.93932972e+08, 2.51148823e+08, 3.25245010e+08, 4.21201720e+08,\n",
       "       5.45468442e+08, 7.06397450e+08, 9.14805184e+08, 1.18469924e+09,\n",
       "       1.53421988e+09, 1.98685923e+09, 2.57304032e+09, 3.33216184e+09,\n",
       "       4.31524621e+09, 5.58836899e+09, 7.23709990e+09, 9.37225424e+09,\n",
       "       1.21373410e+10, 1.57182086e+10, 2.03555360e+10, 2.63610094e+10,\n",
       "       3.41382717e+10, 4.42100519e+10, 5.72532992e+10, 7.41446829e+10])"
      ]
     },
     "execution_count": 20,
     "metadata": {},
     "output_type": "execute_result"
    }
   ],
   "source": []
  },
  {
   "cell_type": "code",
   "execution_count": 33,
   "id": "5a317a23",
   "metadata": {},
   "outputs": [
    {
     "name": "stdout",
     "output_type": "stream",
     "text": [
      "Por cuantos años quieres modelar: 35\n",
      "Cada cuando hacer corte: 12\n",
      "Inversion inicial: 25000\n",
      "tasa mensual compuesta: 0.09\n"
     ]
    },
    {
     "data": {
      "image/png": "[encoded data removed]",
      "text/plain": [
       "<Figure size 1000x600 with 1 Axes>"
      ]
     },
     "metadata": {},
     "output_type": "display_data"
    }
   ],
   "source": [
    "#Captacion de inputs:\n",
    "plazo=int(input(\"Por cuantos años quieres modelar: \"))\n",
    "periodo=int(input(\"Cada cuando hacer corte: \"))\n",
    "inversion = float(input(\"Inversion inicial: \"))\n",
    "tasa=float(input(\"tasa mensual compuesta: \"))\n",
    "\n",
    "\n",
    "#Creacion de inputs\n",
    "tiempos=numpy.arange(0,12*plazo,periodo)\n",
    "INVERSION=inversion\n",
    "TASA=tasa\n",
    "rendimiento=estrategia(INVERSION,TASA,tiempos)\n",
    "rendimiento\n",
    "\n",
    "#Creacion de la grafica\n",
    "plt.figure(figsize=(10,6)) #Primera linea siempre\n",
    "plt.title('Rendimiento Inversion')\n",
    "plt.xlabel('Tiempo')\n",
    "plt.ylabel('Fondo $')\n",
    "plt.plot(tiempos,rendimiento,'g-o',label='Inversion')\n",
    "plt.legend() \n",
    "plt.show()#Ultima linea siempre"
   ]
  },
  {
   "cell_type": "code",
   "execution_count": 34,
   "id": "09fb31dc",
   "metadata": {},
   "outputs": [],
   "source": [
    "continentes={\n",
    "    'asia': 10,\n",
    "    'europa':3,\n",
    "    'america':5,\n",
    "    'oceania':1,\n",
    "    'africa':2\n",
    "}\n"
   ]
  },
  {
   "cell_type": "code",
   "execution_count": 39,
   "id": "551b9bfd",
   "metadata": {},
   "outputs": [
    {
     "data": {
      "text/plain": [
       "[10, 3, 5, 1, 2]"
      ]
     },
     "execution_count": 39,
     "metadata": {},
     "output_type": "execute_result"
    }
   ],
   "source": [
    "list(continentes.values())"
   ]
  },
  {
   "cell_type": "code",
   "execution_count": 35,
   "id": "5d5fd80c",
   "metadata": {},
   "outputs": [
    {
     "data": {
      "text/plain": [
       "['asia', 'europa', 'america', 'oceania', 'africa']"
      ]
     },
     "execution_count": 35,
     "metadata": {},
     "output_type": "execute_result"
    }
   ],
   "source": [
    "list(continentes.keys()) "
   ]
  },
  {
   "cell_type": "code",
   "execution_count": null,
   "id": "64ac3ce9",
   "metadata": {},
   "outputs": [],
   "source": [
    "humanidad=[]"
   ]
  },
  {
   "cell_type": "code",
   "execution_count": 43,
   "id": "f3a58034",
   "metadata": {},
   "outputs": [
    {
     "data": {
      "text/plain": [
       "array([0.47619048, 0.14285714, 0.23809524, 0.04761905, 0.0952381 ])"
      ]
     },
     "execution_count": 43,
     "metadata": {},
     "output_type": "execute_result"
    }
   ],
   "source": [
    "P=numpy.array(list(continentes.values()))/sum(list(continentes.values()))\n",
    "P"
   ]
  },
  {
   "cell_type": "code",
   "execution_count": 44,
   "id": "548d2d1b",
   "metadata": {},
   "outputs": [
    {
     "data": {
      "text/plain": [
       "'asia'"
      ]
     },
     "execution_count": 44,
     "metadata": {},
     "output_type": "execute_result"
    }
   ],
   "source": [
    "\n",
    "numpy.random.choice(list(continentes.keys()),p=P)"
   ]
  },
  {
   "cell_type": "code",
   "execution_count": 60,
   "id": "82c3fd31",
   "metadata": {},
   "outputs": [],
   "source": [
    "def simulacion(poblacion_inicial,iteraciones):\n",
    "    POB = poblacion_inicial\n",
    "    for i in range(iteraciones):\n",
    "        P=numpy.array(list(POB.values()))/sum(list(POB.values()))\n",
    "        nueva_persona = numpy.random.choice(list(POB.keys()),p=P)\n",
    "        pob_pasada = POB[nueva_persona]\n",
    "        POB[nueva_persona] = pob_pasada + 1\n",
    "    return POB"
   ]
  },
  {
   "cell_type": "code",
   "execution_count": 61,
   "id": "bf79da4b",
   "metadata": {},
   "outputs": [
    {
     "data": {
      "text/plain": [
       "{'asia': 153409,\n",
       " 'europa': 48797,\n",
       " 'america': 76238,\n",
       " 'oceania': 4834,\n",
       " 'africa': 16743}"
      ]
     },
     "execution_count": 61,
     "metadata": {},
     "output_type": "execute_result"
    }
   ],
   "source": [
    "simulacion(continentes,100000)"
   ]
  },
  {
   "cell_type": "code",
   "execution_count": 54,
   "id": "1d6ce3b7",
   "metadata": {},
   "outputs": [],
   "source": []
  },
  {
   "cell_type": "code",
   "execution_count": null,
   "id": "b3ac3bd0",
   "metadata": {},
   "outputs": [],
   "source": []
  }
 ],
 "metadata": {
  "kernelspec": {
   "display_name": "Python 3 (ipykernel)",
   "language": "python",
   "name": "python3"
  },
  "language_info": {
   "codemirror_mode": {
    "name": "ipython",
    "version": 3
   },
   "file_extension": ".py",
   "mimetype": "text/x-python",
   "name": "python",
   "nbconvert_exporter": "python",
   "pygments_lexer": "ipython3",
   "version": "3.11.1"
  }
 },
 "nbformat": 4,
 "nbformat_minor": 5
}
